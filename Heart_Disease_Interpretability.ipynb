{
 "cells": [
  {
   "cell_type": "markdown",
   "id": "61531eb2",
   "metadata": {},
   "source": [
    "# 🫀 Heart Disease Prediction and Interpretability\n",
    "\n",
    "This notebook demonstrates a complete machine learning pipeline applied to the UCI Heart Disease dataset. All models and tools are implemented from scratch, including:\n",
    "\n",
    "- Logistic Regression\n",
    "- Decision Tree\n",
    "- Random Forest\n",
    "- LIME (Local Interpretable Model-Agnostic Explanations)\n",
    "\n",
    "The goal is both predictive performance and interpretability — understanding **why** the model made a prediction.\n"
   ]
  },
  {
   "cell_type": "markdown",
   "id": "09baa35f",
   "metadata": {},
   "source": [
    "## 🔧 Setup and Imports\n",
    "\n",
    "We begin by importing all required modules from our custom `courselib` framework."
   ]
  },
  {
   "cell_type": "code",
   "execution_count": 1,
   "id": "27c4e80c",
   "metadata": {},
   "outputs": [],
   "source": [
    "import numpy as np\n",
    "import pandas as pd\n",
    "from ucimlrepo import fetch_ucirepo\n",
    "from matplotlib import pyplot as plt\n",
    "\n",
    "# Custom modules (all implemented from scratch)\n",
    "from courselib.utils.loaders import load_heart_data\n",
    "from courselib.utils.preprocessing import preprocess_dataframe\n",
    "from courselib.utils.normalization import minmax_normalize\n",
    "from courselib.utils.splits import train_test_split\n",
    "from courselib.utils.metrics import accuracy, f1_score, mean_squared_error, binary_accuracy\n",
    "from courselib.models.logistic import LogisticRegression\n",
    "from courselib.models.tree import DecisionTree\n",
    "from courselib.models.forest import RandomForest\n",
    "from courselib.optimizers import GDOptimizer\n",
    "from courselib.explain.lime import LimeTabularExplainer"
   ]
  },
  {
   "cell_type": "markdown",
   "id": "3b5a5f36",
   "metadata": {},
   "source": [
    "## 📥 Load and Preprocess Data\n",
    "\n",
    "We use the UCI Heart Disease dataset, which includes patient data (e.g. age, sex, cholesterol, etc.) and a target variable indicating presence (1-4) or absence (0) of heart disease (Source: https://archive.ics.uci.edu/dataset/45/heart+disease). \n",
    "\n",
    "> ### 💡 Binary Transformation\n",
    ">\n",
    "> The target ranges from 0 to 4:\n",
    "> - 0 = no presence of heart disease\n",
    "> - 1–4 = presence of heart disease  \n",
    ">  \n",
    "> Our research focuses on the binary classification task: **presence (1–4) vs. absence (0)** as described in the dataset information.\n",
    "> So we convert:\n",
    ">\n",
    "> $$\n",
    "> y = \\begin{cases}\n",
    ">     0 & \\text{if } y = 0 \\\\\\\\\n",
    ">     1 & \\text{if } y \\in \\{1, 2, 3, 4\\}\n",
    "> \\end{cases}\n",
    "> $$\n",
    "\n",
    "Steps:\n",
    "- Fetch dataset\n",
    "- Convert multiclass to binary target\n",
    "- Encode categorical features\n",
    "- Normalize numerical features to [0, 1] range\n",
    "- Split into training and testing sets\n"
   ]
  },
  {
   "cell_type": "code",
   "execution_count": 2,
   "id": "62e65517",
   "metadata": {},
   "outputs": [
    {
     "name": "stdout",
     "output_type": "stream",
     "text": [
      "🧼 Dropping rows with missing values:\n",
      "  - ca: 4 missing\n",
      "  - thal: 2 missing\n",
      "❌ Total rows dropped: 6\n",
      "Training data split as follows:\n",
      "  Training data samples: 237\n",
      "      Test data samples: 60\n"
     ]
    }
   ],
   "source": [
    "# Load raw data\n",
    "X_df, y_series = load_heart_data()\n",
    "\n",
    "# Convert target to binary: 0 (no disease), 1 (disease)\n",
    "y_series = (y_series > 0).astype(int)\n",
    "\n",
    "# Combine and preprocess\n",
    "X, y = preprocess_dataframe(pd.concat([X_df, y_series], axis=1), target_col= \"num\")\n",
    "\n",
    "# Normalize features\n",
    "X = minmax_normalize(X)\n",
    "\n",
    "# Train/test split\n",
    "X_train, X_test, y_train, y_test = train_test_split(X, y, test_size=0.2, seed=42)\n",
    "print('Training data split as follows:')\n",
    "print(f'  Training data samples: {len(X_train)}')\n",
    "print(f'      Test data samples: {len(X_test)}')\n"
   ]
  },
  {
   "cell_type": "markdown",
   "id": "65a36981",
   "metadata": {},
   "source": [
    "## 📈 Logistic Regression\n",
    "\n",
    "We implement logistic regression using gradient descent.\n",
    "\n",
    "> ### 💡 Model and Loss\n",
    ">\n",
    "> The model computes probabilities as:\n",
    ">\n",
    "> $$\n",
    "> \\hat{y}_i = \\sigma(w^T x_i + b), \\quad \\text{where} \\quad \\sigma(z) = \\frac{1}{1 + e^{-z}}\n",
    "> $$\n",
    ">\n",
    "> The loss function is binary cross-entropy:\n",
    ">\n",
    "> $$\n",
    "> \\mathcal{L}(w, b) = -\\frac{1}{n} \\sum_{i=1}^{n} \\left[ y_i \\log(\\hat{y}_i) + (1 - y_i) \\log(1 - \\hat{y}_i) \\right]\n",
    "> $$\n",
    ">\n",
    "> Optimized using gradient descent.\n"
   ]
  },
  {
   "cell_type": "code",
   "execution_count": 3,
   "id": "f3c72264",
   "metadata": {},
   "outputs": [
    {
     "name": "stdout",
     "output_type": "stream",
     "text": [
      "Logistic Regression Accuracy: 0.7666666666666667\n"
     ]
    }
   ],
   "source": [
    "optimizer = GDOptimizer(learning_rate=1e-1)\n",
    "logreg = LogisticRegression(\n",
    "    w=np.zeros(X_train.shape[1]), \n",
    "    b=0.0, \n",
    "    optimizer=optimizer\n",
    ")\n",
    "logreg.fit(X_train, y_train, num_epochs=50)\n",
    "\n",
    "y_pred_logreg = logreg(X_test)\n",
    "print(\"Logistic Regression Accuracy:\", accuracy(y_test, y_pred_logreg))"
   ]
  },
  {
   "cell_type": "code",
   "execution_count": null,
   "id": "a97ecc64",
   "metadata": {},
   "outputs": [
    {
     "name": "stdout",
     "output_type": "stream",
     "text": [
      "Logistic Regression Accuracy: 85.0\n"
     ]
    }
   ],
   "source": [
    "optimizer = GDOptimizer(learning_rate=1e-1)\n",
    "logreg = LogisticRegression(\n",
    "    w=np.zeros(X_train.shape[1]), \n",
    "    b=0.0, \n",
    "    optimizer=optimizer, \n",
    "    penalty=\"none\"\n",
    ")\n",
    "\n",
    "accuracy = lambda y_true,y_pred: binary_accuracy(y_true,y_pred,class_labels=[0,1])\n",
    "metrics_dict = {'accuracy': accuracy,\n",
    "                'MSE': mean_squared_error}\n",
    "metrics_history = logreg.fit(X_train, y_train, num_epochs=5000, batch_size=len(X_train), compute_metrics=True, metrics_dict=metrics_dict)\n",
    "\n",
    "y_pred_logreg = logreg(X_test)\n",
    "print(\"Logistic Regression Accuracy:\", accuracy(y_test, y_pred_logreg))\n"
   ]
  },
  {
   "cell_type": "code",
   "execution_count": 21,
   "id": "03a77e31",
   "metadata": {},
   "outputs": [
    {
     "name": "stdout",
     "output_type": "stream",
     "text": [
      "The final train accuracy: 85.23206751054853%\n",
      "Test accuracy: 85.0%\n"
     ]
    },
    {
     "data": {
      "image/png": "[encoded data removed]",
      "text/plain": [
       "<Figure size 640x480 with 2 Axes>"
      ]
     },
     "metadata": {},
     "output_type": "display_data"
    }
   ],
   "source": [
    "fig, ax = plt.subplots()\n",
    "\n",
    "ax.plot(range(len(metrics_history['MSE'])), metrics_history['MSE'])\n",
    "ax.set_ylabel('MSE value')\n",
    "\n",
    "ax2 = ax.twinx()\n",
    "ax2.plot(range(len(metrics_history['accuracy'])), metrics_history['accuracy'], color='orange')\n",
    "ax2.set_ylabel('Accuracy')\n",
    "\n",
    "ax.set_xlabel('Epoch')\n",
    "\n",
    "plt.title('Learning curve')\n",
    "plt.grid()\n",
    "\n",
    "print(f'The final train accuracy: {metrics_history[\"accuracy\"][-1]}%')\n",
    "print(f'Test accuracy: {accuracy(logreg(X_test), y_test)}%')"
   ]
  },
  {
   "cell_type": "markdown",
   "id": "bddf680f",
   "metadata": {},
   "source": [
    "## 🌳 Decision Tree\n",
    "\n",
    "Decision trees recursively split the data to reduce impurity and create interpretable decision rules.\n",
    "\n",
    "> ### 💡 Impurity Measures\n",
    ">\n",
    "> Gini impurity:\n",
    "> $$\n",
    "> G = 1 - \\sum_{k=1}^K p_k^2\n",
    "> $$\n",
    ">\n",
    "> Entropy:\n",
    "> $$\n",
    "> H = -\\sum_{k=1}^K p_k \\log(p_k)\n",
    "> $$\n",
    ">\n",
    "> A split is chosen to minimize weighted impurity.\n"
   ]
  },
  {
   "cell_type": "code",
   "execution_count": 32,
   "id": "85f42662",
   "metadata": {},
   "outputs": [
    {
     "name": "stdout",
     "output_type": "stream",
     "text": [
      "Decision Tree Accuracy: 0.7333333333333333\n"
     ]
    }
   ],
   "source": [
    "tree = DecisionTree(max_depth=4)\n",
    "tree.fit(X_train, y_train)\n",
    "y_pred_tree = tree.predict(X_test)\n",
    "print(\"Decision Tree Accuracy:\", accuracy(y_test, y_pred_tree))\n"
   ]
  },
  {
   "cell_type": "markdown",
   "id": "b3b687f6",
   "metadata": {},
   "source": [
    "## 🌲 Random Forest\n",
    "\n",
    "Random forests are ensembles of decision trees, trained on random subsets of the data and features.\n",
    "\n",
    "> ### 💡 Key Idea\n",
    ">\n",
    "> Combine multiple weak learners (trees) to create a strong learner.\n",
    "> Each tree votes, and the majority decision is the output.\n",
    ">\n",
    "> This improves generalization and reduces variance.\n"
   ]
  },
  {
   "cell_type": "code",
   "execution_count": 33,
   "id": "b776610c",
   "metadata": {},
   "outputs": [
    {
     "name": "stdout",
     "output_type": "stream",
     "text": [
      "Random Forest Accuracy: 0.8166666666666667\n"
     ]
    }
   ],
   "source": [
    "forest = RandomForest(n_estimators=50, max_depth=4)\n",
    "forest.fit(X_train, y_train)\n",
    "y_pred_forest = forest.predict(X_test)\n",
    "print(\"Random Forest Accuracy:\", accuracy(y_test, y_pred_forest))\n"
   ]
  },
  {
   "cell_type": "markdown",
   "id": "04b6697c",
   "metadata": {},
   "source": [
    "## 🔍 LIME: Model Interpretability\n",
    "\n",
    "LIME explains individual predictions by approximating the model locally with a simpler interpretable model.\n",
    "\n",
    "> ### 💡 How LIME Works\n",
    ">\n",
    "> 1. Sample points around the instance using noise\n",
    "> 2. Get predictions from the black-box model\n",
    "> 3. Fit a weighted linear model (e.g. ridge regression)\n",
    "> 4. Interpret feature weights of this surrogate model\n"
   ]
  },
  {
   "cell_type": "code",
   "execution_count": 19,
   "id": "6042a204",
   "metadata": {},
   "outputs": [
    {
     "name": "stdout",
     "output_type": "stream",
     "text": [
      "✅ X_train shape: (237, 13)\n",
      "✅ Any NaNs in X_train? False\n",
      "✅ Feature std (min/max): 0.11310354958411033 0.49565040043363123\n",
      "✅ Perturbed shape: (301, 13)\n",
      "✅ Perturbed sample stats [first row]: [0.6875     0.         1.         0.41509434 0.38356164 1.\n",
      " 0.         0.26717557 0.         0.30645161 0.5        1.\n",
      " 0.        ]\n",
      "✅ Predictions shape: (301,)\n",
      "✅ Prediction stats: 0.5 0.5 [0.5]\n",
      "✅ Sample weights stats: 4.783239439482704e-13 1.0 0.012453276065494245\n",
      "✅ Ridge fit: success\n",
      "✅ Coef preview: [-9.89834684e-16 -4.07641228e-17 -9.89822059e-16 -6.02966435e-16\n",
      " -3.46485774e-16]\n"
     ]
    }
   ],
   "source": [
    "import numpy as np\n",
    "\n",
    "# Assume: X_train, X_test, logreg, and LimeTabularExplainer are already defined\n",
    "\n",
    "# 1. Check shape and validity of X_train\n",
    "print(\"✅ X_train shape:\", X_train.shape)\n",
    "print(\"✅ Any NaNs in X_train?\", np.isnan(X_train).any())\n",
    "\n",
    "# 2. Initialize explainer and print internal stats\n",
    "explainer = LimeTabularExplainer(X_train, feature_names=X_df.columns.tolist(), kernel_width=1.0)\n",
    "print(\"✅ Feature std (min/max):\", np.min(explainer.feature_std), np.max(explainer.feature_std))\n",
    "\n",
    "# 3. Pick instance and generate perturbations manually\n",
    "instance = X_test[5]\n",
    "num_samples = 300\n",
    "perturbed = np.random.normal(loc=instance, scale=explainer.feature_std, size=(num_samples, len(instance)))\n",
    "perturbed = np.clip(perturbed, 0, 1)\n",
    "perturbed = np.vstack([instance, perturbed])\n",
    "\n",
    "print(\"✅ Perturbed shape:\", perturbed.shape)\n",
    "print(\"✅ Perturbed sample stats [first row]:\", perturbed[0])\n",
    "\n",
    "# 4. Run model predictions\n",
    "predict_fn = lambda x: logreg.decision_function(np.atleast_2d(x)).flatten()\n",
    "preds = predict_fn(perturbed)\n",
    "print(\"✅ Predictions shape:\", preds.shape)\n",
    "print(\"✅ Prediction stats:\", np.min(preds), np.max(preds), np.unique(preds[:10]))\n",
    "\n",
    "# 5. Compute distances and sample weights\n",
    "distances = np.linalg.norm((perturbed - instance) / explainer.feature_std, axis=1)\n",
    "weights = np.exp(-distances ** 2 / explainer.kernel_width ** 2)\n",
    "print(\"✅ Sample weights stats:\", np.min(weights), np.max(weights), np.mean(weights))\n",
    "\n",
    "# 6. Test RidgeRegression stability\n",
    "from courselib.models.ridge import RidgeRegression\n",
    "ridge = RidgeRegression(alpha=1.0, fit_intercept=True)\n",
    "try:\n",
    "    ridge.fit(perturbed, preds, sample_weight=weights)\n",
    "    print(\"✅ Ridge fit: success\")\n",
    "    print(\"✅ Coef preview:\", ridge.coef_[:5])\n",
    "except Exception as e:\n",
    "    print(\"❌ Ridge fit error:\", e)\n"
   ]
  },
  {
   "cell_type": "code",
   "execution_count": 22,
   "id": "b7107eed",
   "metadata": {},
   "outputs": [],
   "source": [
    "logreg.fit(X_train, y_train, num_epochs=100)"
   ]
  },
  {
   "cell_type": "code",
   "execution_count": 23,
   "id": "2c68120b",
   "metadata": {},
   "outputs": [
    {
     "name": "stdout",
     "output_type": "stream",
     "text": [
      "Model weights: [0. 0. 0. 0. 0. 0. 0. 0. 0. 0. 0. 0. 0.]\n",
      "Bias: [0.]\n"
     ]
    }
   ],
   "source": [
    "print(\"Model weights:\", logreg.w)\n",
    "print(\"Bias:\", logreg.b)"
   ]
  },
  {
   "cell_type": "code",
   "execution_count": 20,
   "id": "05cd2ef3",
   "metadata": {},
   "outputs": [
    {
     "name": "stdout",
     "output_type": "stream",
     "text": [
      "Prediction stats: 0.5 0.5 [0.5]\n",
      "Top LIME Features:\n",
      "slope: -0.0000\n",
      "ca: -0.0000\n",
      "chol: -0.0000\n",
      "fbs: -0.0000\n",
      "oldpeak: -0.0000\n"
     ]
    }
   ],
   "source": [
    "explainer = LimeTabularExplainer(X_train, feature_names=X_df.columns.tolist())\n",
    "instance = X_test[5]\n",
    "predict_fn = lambda x: logreg.decision_function(np.atleast_2d(x)).flatten()\n",
    "weights, idx = explainer.explain_instance(instance, predict_fn, num_samples=300)\n",
    "\n",
    "print(\"Top LIME Features:\")\n",
    "for feat, w in explainer.as_list(weights, idx, top_k=5):\n",
    "    print(f\"{feat}: {w:.4f}\")\n"
   ]
  },
  {
   "cell_type": "code",
   "execution_count": 19,
   "id": "16f16010",
   "metadata": {},
   "outputs": [
    {
     "ename": "NameError",
     "evalue": "name 'preds' is not defined",
     "output_type": "error",
     "traceback": [
      "\u001b[1;31m---------------------------------------------------------------------------\u001b[0m",
      "\u001b[1;31mNameError\u001b[0m                                 Traceback (most recent call last)",
      "Cell \u001b[1;32mIn[19], line 1\u001b[0m\n\u001b[1;32m----> 1\u001b[0m \u001b[38;5;28mprint\u001b[39m(\u001b[38;5;124m\"\u001b[39m\u001b[38;5;124mPrediction stats:\u001b[39m\u001b[38;5;124m\"\u001b[39m, np\u001b[38;5;241m.\u001b[39mmin(\u001b[43mpreds\u001b[49m), np\u001b[38;5;241m.\u001b[39mmax(preds), np\u001b[38;5;241m.\u001b[39munique(preds))\n",
      "\u001b[1;31mNameError\u001b[0m: name 'preds' is not defined"
     ]
    }
   ],
   "source": [
    "print(\"Prediction stats:\", np.min(preds), np.max(preds), np.unique(preds))\n"
   ]
  },
  {
   "cell_type": "markdown",
   "id": "6386770d",
   "metadata": {},
   "source": [
    "## ✅ Summary\n",
    "\n",
    "We implemented and interpreted multiple models from scratch:\n",
    "\n",
    "- 🧮 Logistic Regression (with gradients and sigmoid)\n",
    "- 🌳 Decision Tree (using impurity criteria)\n",
    "- 🌲 Random Forest (ensemble of trees)\n",
    "- 🔍 LIME (local explanations with RidgeRegression)\n",
    "\n",
    "All within a modular framework designed for transparency and learning.\n"
   ]
  },
  {
   "cell_type": "code",
   "execution_count": null,
   "id": "be5d9ba2",
   "metadata": {},
   "outputs": [],
   "source": []
  }
 ],
 "metadata": {
  "kernelspec": {
   "display_name": "applied_ml",
   "language": "python",
   "name": "python3"
  },
  "language_info": {
   "codemirror_mode": {
    "name": "ipython",
    "version": 3
   },
   "file_extension": ".py",
   "mimetype": "text/x-python",
   "name": "python",
   "nbconvert_exporter": "python",
   "pygments_lexer": "ipython3",
   "version": "3.10.16"
  }
 },
 "nbformat": 4,
 "nbformat_minor": 5
}
