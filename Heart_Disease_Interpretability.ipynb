{
 "cells": [
  {
   "cell_type": "markdown",
   "id": "61531eb2",
   "metadata": {},
   "source": [
    "# 🫀 Heart Disease Prediction and Interpretability\n",
    "\n",
    "This notebook demonstrates a complete machine learning pipeline applied to the UCI Heart Disease dataset. All models and tools are implemented from scratch, including:\n",
    "\n",
    "- Logistic Regression\n",
    "- Decision Tree\n",
    "- Random Forest\n",
    "- LIME (Local Interpretable Model-Agnostic Explanations)\n",
    "\n",
    "The goal is both predictive performance and interpretability — understanding **why** the model made a prediction.\n"
   ]
  },
  {
   "cell_type": "markdown",
   "id": "09baa35f",
   "metadata": {},
   "source": [
    "## 🔧 Setup and Imports\n",
    "\n",
    "We begin by importing all required modules from our custom `courselib` framework."
   ]
  },
  {
   "cell_type": "code",
   "execution_count": 1,
   "id": "27c4e80c",
   "metadata": {},
   "outputs": [],
   "source": [
    "import numpy as np\n",
    "import pandas as pd\n",
    "from matplotlib import pyplot as plt\n",
    "import seaborn as sns\n",
    "\n",
    "# Custom modules (all implemented from scratch)\n",
    "from courselib.utils.loaders import load_heart_data\n",
    "from courselib.utils.preprocessing import preprocess_dataframe\n",
    "from courselib.utils.normalization import minmax_normalize\n",
    "from courselib.utils.splits import train_test_split\n",
    "from courselib.utils.metrics import accuracy, f1_score, mean_squared_error, binary_accuracy\n",
    "from courselib.models.logistic import LogisticRegression\n",
    "from courselib.models.tree import DecisionTree\n",
    "from courselib.models.forest import RandomForest\n",
    "from courselib.optimizers import GDOptimizer, MomentumOptimizer\n",
    "from courselib.explain.lime import LimeTabularExplainer\n",
    "from courselib.utils.summarization import summarize_after_preprocessing\n",
    "from courselib.utils.cv import grid_search_cv\n"
   ]
  },
  {
   "cell_type": "markdown",
   "id": "3b5a5f36",
   "metadata": {},
   "source": [
    "## 📥 Load and Preprocess Data\n",
    "\n",
    "We use the UCI Heart Disease dataset, which includes patient data (e.g. age, sex, cholesterol, etc.) and a target variable indicating presence (1-4) or absence (0) of heart disease (Source: https://archive.ics.uci.edu/dataset/45/heart+disease). \n",
    "\n",
    "> ### 💡 Binary Transformation\n",
    ">\n",
    "> The target ranges from 0 to 4:\n",
    "> - 0 = no presence of heart disease\n",
    "> - 1–4 = presence of heart disease  \n",
    ">  \n",
    "> Our research focuses on the binary classification task: **presence (1–4) vs. absence (0)** as described in the dataset information.\n",
    "> So we convert:\n",
    ">\n",
    "> $$\n",
    "> y = \\begin{cases}\n",
    ">     0 & \\text{if } y = 0 \\\\\\\\\n",
    ">     1 & \\text{if } y \\in \\{1, 2, 3, 4\\}\n",
    "> \\end{cases}\n",
    "> $$\n",
    "\n",
    "Steps:\n",
    "- Fetch dataset\n",
    "- Convert multiclass to binary target\n",
    "- Encode categorical features\n",
    "- Normalize numerical features to [0, 1] range\n",
    "- Split into training and testing sets\n"
   ]
  },
  {
   "cell_type": "code",
   "execution_count": 2,
   "id": "62e65517",
   "metadata": {},
   "outputs": [
    {
     "name": "stdout",
     "output_type": "stream",
     "text": [
      "🧼 Dropping rows with missing values:\n",
      "  - ca: 4 missing\n",
      "  - thal: 2 missing\n",
      "🧹 Total rows dropped: 6\n",
      "\n",
      "📦 Train/test split:\n",
      "  Training samples: 237\n",
      "  Test samples:     60\n",
      "\n",
      "🧾 Binary target distribution:\n",
      "  Class 0: 164 samples (54.1%)\n",
      "  Class 1: 139 samples (45.9%)\n",
      "\n",
      "🔢 Feature matrix shape: 297 samples × 13 features\n"
     ]
    }
   ],
   "source": [
    "# Load raw data\n",
    "X_df, y_series = load_heart_data()\n",
    "\n",
    "# Convert target to binary: 0 (no disease), 1 (disease)\n",
    "y_series = (y_series > 0).astype(int)\n",
    "\n",
    "# Create a complete DataFrame with features and target\n",
    "df_complete = pd.concat([X_df, y_series], axis=1)\n",
    "\n",
    "# Combine and preprocess\n",
    "X, y = preprocess_dataframe(df_complete, target_col= \"num\")\n",
    "\n",
    "# Normalize features\n",
    "X = minmax_normalize(X)\n",
    "\n",
    "# Train/test split\n",
    "X_train, X_test, y_train, y_test = train_test_split(X, y, test_size=0.2, seed=42)\n",
    "\n",
    "# Summarize the dataset after preprocessing\n",
    "summarize_after_preprocessing(df_complete, X=X, X_train=X_train, X_test=X_test)\n"
   ]
  },
  {
   "cell_type": "markdown",
   "id": "e24d2856",
   "metadata": {},
   "source": [
    "### Covariate Overview\n",
    "\n",
    "This dataset contains 14 key attributes related to heart disease diagnosis. The primary covariates include:\n",
    "\n",
    "- **age**: Patient age in years  \n",
    "- **sex**: Gender (1 = male; 0 = female)  \n",
    "- **cp**: Chest pain type (4 values)  \n",
    "- **trestbps**: Resting blood pressure (in mm Hg)  \n",
    "- **chol**: Serum cholesterol (in mg/dl)  \n",
    "- **fbs**: Fasting blood sugar > 120 mg/dl (1 = true; 0 = false)  \n",
    "- **restecg**: Resting ECG results (values 0–2)  \n",
    "- **thalach**: Maximum heart rate achieved  \n",
    "- **exang**: Exercise-induced angina (1 = yes; 0 = no)  \n",
    "- **oldpeak**: ST depression induced by exercise  \n",
    "- **slope**: Slope of the peak exercise ST segment  \n",
    "- **ca**: Number of major vessels colored by fluoroscopy (0–3)  \n",
    "- **thal**: Thalassemia (3 = normal; 6 = fixed defect; 7 = reversible defect)  \n",
    "- **target**: Presence of heart disease (1 = yes; 0 = no)\n",
    "\n",
    "_Source: [UCI Heart Disease Dataset](https://archive.ics.uci.edu/dataset/45/heart+disease)_\n"
   ]
  },
  {
   "cell_type": "markdown",
   "id": "65a36981",
   "metadata": {},
   "source": [
    "## 📈 Logistic Regression\n",
    "\n",
    "We implement logistic regression using gradient descent.\n",
    "\n",
    "> ### 💡 Model and Loss\n",
    ">\n",
    "> The model computes probabilities as:\n",
    ">\n",
    "> $$\n",
    "> \\hat{y}_i = \\sigma(w^T x_i + b), \\quad \\text{where} \\quad \\sigma(z) = \\frac{1}{1 + e^{-z}}\n",
    "> $$\n",
    ">\n",
    "> The loss function is binary cross-entropy:\n",
    ">\n",
    "> $$\n",
    "> \\mathcal{L}(w, b) = -\\frac{1}{n} \\sum_{i=1}^{n} \\left[ y_i \\log(\\hat{y}_i) + (1 - y_i) \\log(1 - \\hat{y}_i) \\right]\n",
    "> $$\n",
    ">\n",
    "> Optimized using gradient descent.\n"
   ]
  },
  {
   "cell_type": "markdown",
   "id": "f3c72264",
   "metadata": {},
   "source": [
    "DELETE::::optimizer = GDOptimizer(learning_rate=1e-4)\n",
    "logreg = LogisticRegression(\n",
    "    w=np.zeros(X_train.shape[1]), \n",
    "    b=0.0, \n",
    "    optimizer=optimizer\n",
    ")\n",
    "logreg.fit(X_train, y_train, num_epochs=50)\n",
    "\n",
    "y_pred_logreg = logreg(X_test)\n",
    "print(\"Logistic Regression Accuracy:\", accuracy(y_test, y_pred_logreg))"
   ]
  },
  {
   "cell_type": "code",
   "execution_count": 10,
   "id": "a97ecc64",
   "metadata": {},
   "outputs": [
    {
     "name": "stdout",
     "output_type": "stream",
     "text": [
      "Logistic Regression Accuracy: 81.667%\n"
     ]
    }
   ],
   "source": [
    "optimizer = GDOptimizer(learning_rate=1e-3)\n",
    "logreg = LogisticRegression(\n",
    "    w=np.zeros(X_train.shape[1]), \n",
    "    b=0.0, \n",
    "    optimizer=optimizer, \n",
    "    penalty=\"none\"\n",
    ")\n",
    "\n",
    "accuracy = lambda y_true,y_pred: binary_accuracy(y_true,y_pred,class_labels=[0,1])\n",
    "metrics_dict = {'accuracy': accuracy,\n",
    "                'MSE': mean_squared_error}\n",
    "metrics_history = logreg.fit(X_train, y_train, num_epochs=150000, batch_size=len(X_train), compute_metrics=True, metrics_dict=metrics_dict)\n",
    "\n",
    "y_pred_logreg = logreg(X_test)\n",
    "print(f\"Logistic Regression Accuracy: {accuracy(y_test, y_pred_logreg):.3f}%\")"
   ]
  },
  {
   "cell_type": "code",
   "execution_count": 11,
   "id": "03a77e31",
   "metadata": {},
   "outputs": [
    {
     "name": "stdout",
     "output_type": "stream",
     "text": [
      "The final train accuracy: 84.388%\n",
      "Test accuracy: 81.667%\n"
     ]
    },
    {
     "data": {
      "image/png": "[encoded data removed]",
      "text/plain": [
       "<Figure size 640x480 with 2 Axes>"
      ]
     },
     "metadata": {},
     "output_type": "display_data"
    }
   ],
   "source": [
    "fig, ax = plt.subplots()\n",
    "\n",
    "ax.plot(range(len(metrics_history['MSE'])), metrics_history['MSE'])\n",
    "ax.set_ylabel('MSE value')\n",
    "\n",
    "ax2 = ax.twinx()\n",
    "ax2.plot(range(len(metrics_history['accuracy'])), metrics_history['accuracy'], color='orange')\n",
    "ax2.set_ylabel('Accuracy')\n",
    "\n",
    "ax.set_xlabel('Epoch')\n",
    "\n",
    "plt.title('Learning curve')\n",
    "plt.grid()\n",
    "\n",
    "print(f'The final train accuracy: {metrics_history[\"accuracy\"][-1]:.3f}%')\n",
    "print(f'Test accuracy: {accuracy(logreg(X_test), y_test):.3f}%')"
   ]
  },
  {
   "cell_type": "markdown",
   "id": "123a6c4e",
   "metadata": {},
   "source": [
    "### 🧠 **Bonus: Accelerating Logistic Regression with Momentum**\n",
    "\n",
    "Training deep or even shallow models using vanilla gradient descent can often be **slow to converge**, especially in the presence of noisy gradients or shallow slopes. One widely used remedy is **gradient descent with momentum**, which accumulates a velocity vector to smooth updates and speed up convergence.\n",
    "\n",
    "By incorporating a `MomentumOptimizer` into our logistic regression setup, we aim to:\n",
    "\n",
    "- Mitigate oscillations in flat or curved loss surfaces  \n",
    "- Accelerate convergence to minima  \n",
    "- Potentially reach better-performing solutions in fewer steps  \n",
    "\n",
    "In the following, we swap out `GDOptimizer` for a `MomentumOptimizer` with `momentum=0.9` and track its effect on performance and convergence.\n"
   ]
  },
  {
   "cell_type": "code",
   "execution_count": 12,
   "id": "99d60989",
   "metadata": {},
   "outputs": [
    {
     "name": "stdout",
     "output_type": "stream",
     "text": [
      "Logistic Regression Accuracy: 81.667%\n"
     ]
    }
   ],
   "source": [
    "optimizer = MomentumOptimizer(learning_rate=1e-3, momentum=0.9)\n",
    "\n",
    "logreg_momentum = LogisticRegression(\n",
    "    w=np.zeros(X_train.shape[1]), \n",
    "    b=0.0, \n",
    "    optimizer=optimizer, \n",
    "    penalty=\"none\"\n",
    ")\n",
    "\n",
    "accuracy = lambda y_true,y_pred: binary_accuracy(y_true,y_pred,class_labels=[0,1])\n",
    "metrics_dict = {'accuracy': accuracy,\n",
    "                'MSE': mean_squared_error}\n",
    "metrics_history_momentum = logreg_momentum.fit(X_train, y_train, num_epochs=25000, batch_size=len(X_train), compute_metrics=True, metrics_dict=metrics_dict)\n",
    "\n",
    "y_pred_logreg_momentum = logreg_momentum(X_test)\n",
    "print(f\"Logistic Regression Accuracy: {accuracy(y_test, y_pred_logreg_momentum):.3f}%\")"
   ]
  },
  {
   "cell_type": "code",
   "execution_count": 13,
   "id": "3f5cb525",
   "metadata": {},
   "outputs": [
    {
     "name": "stdout",
     "output_type": "stream",
     "text": [
      "The final train accuracy: 84.810%\n",
      "Test accuracy: 81.667%\n"
     ]
    },
    {
     "data": {
      "image/png": "[encoded data removed]",
      "text/plain": [
       "<Figure size 640x480 with 2 Axes>"
      ]
     },
     "metadata": {},
     "output_type": "display_data"
    }
   ],
   "source": [
    "fig, ax = plt.subplots()\n",
    "\n",
    "ax.plot(range(len(metrics_history_momentum['MSE'])), metrics_history_momentum['MSE'])\n",
    "ax.set_ylabel('MSE value')\n",
    "\n",
    "ax2 = ax.twinx()\n",
    "ax2.plot(range(len(metrics_history_momentum['accuracy'])), metrics_history_momentum['accuracy'], color='orange')\n",
    "ax2.set_ylabel('Accuracy')\n",
    "\n",
    "ax.set_xlabel('Epoch')\n",
    "\n",
    "plt.title('Learning Curve with Momentum Optimizer')\n",
    "plt.grid()\n",
    "\n",
    "print(f'The final train accuracy: {metrics_history_momentum[\"accuracy\"][-1]:.3f}%')\n",
    "print(f'Test accuracy: {accuracy(logreg_momentum(X_test), y_test):.3f}%')"
   ]
  },
  {
   "cell_type": "markdown",
   "id": "9aa3533d",
   "metadata": {},
   "source": [
    "### 📊 **Result Summary: Momentum Accelerates Convergence**\n",
    "\n",
    "The plots below clearly illustrate the benefit of adding momentum to gradient descent:\n",
    "\n",
    "- The **standard GDOptimizer** required nearly **100,000 epochs** before the MSE stabilized around 0.053.\n",
    "- In contrast, the **MomentumOptimizer converged in around 15,000 epochs**, reaching the same MSE value roughly **6x faster**.\n",
    "- Both models achieved a similar **final test accuracy of 81.67%**, but the momentum-based model got there significantly quicker and with smoother optimization.\n",
    "\n",
    "This confirms that momentum helps **escape slow descent regions and accelerates convergence**, making it a valuable upgrade for iterative optimization — even in classic models like logistic regression.\n"
   ]
  },
  {
   "cell_type": "markdown",
   "id": "bddf680f",
   "metadata": {},
   "source": [
    "## 🌳 Decision Tree\n",
    "\n",
    "Decision trees recursively split the data to reduce impurity and create interpretable decision rules.\n",
    "\n",
    "> ### 💡 Impurity Measures\n",
    ">\n",
    "> Gini impurity:\n",
    ">\n",
    "> $$\n",
    "> G = 1 - \\sum_{k=1}^K p_k^2\n",
    "> $$\n",
    ">\n",
    "> Entropy:\n",
    ">\n",
    "> $$\n",
    "> H = -\\sum_{k=1}^K p_k \\log(p_k)\n",
    "> $$\n",
    ">\n",
    "> A split is chosen to minimize weighted impurity across child nodes.\n",
    "\n",
    "---\n",
    "\n",
    "We tune the **`max_depth`** hyperparameter via **grid search** with **5-fold cross-validation**, optimizing for classification **accuracy**.\n",
    "\n",
    "This helps prevent overfitting while selecting a performant, interpretable tree depth.\n"
   ]
  },
  {
   "cell_type": "code",
   "execution_count": null,
   "id": "b2f3f30a",
   "metadata": {},
   "outputs": [
    {
     "name": "stdout",
     "output_type": "stream",
     "text": [
      "✅ Decision Tree (best CV depth = 3):\n",
      "CV Accuracy: 0.759\n",
      "Test Accuracy: 0.700\n"
     ]
    }
   ],
   "source": [
    "# Grid search for best tree depth using cross-validation\n",
    "param_grid = {\"max_depth\": [2, 3, 4, 5, 6]}\n",
    "best_tree, best_params, best_score = grid_search_cv(\n",
    "    ModelClass=DecisionTree,\n",
    "    param_grid=param_grid,\n",
    "    X=X_train,\n",
    "    y=y_train,\n",
    "    metric_fn=accuracy,\n",
    "    k=5,\n",
    "    seed=42\n",
    ")\n",
    "\n",
    "# Evaluate best model on test set\n",
    "y_pred_tree = best_tree.predict(X_test)\n",
    "print(f\"✅ Decision Tree (best CV depth = {best_params['max_depth']}):\")\n",
    "print(f\"CV Accuracy: {best_score:.3f}\")\n",
    "print(f\"Test Accuracy: {accuracy(y_test, y_pred_tree):.3f}\")"
   ]
  },
  {
   "cell_type": "markdown",
   "id": "b3b687f6",
   "metadata": {},
   "source": [
    "## 🌲 Random Forest\n",
    "\n",
    "Random forests are ensembles of decision trees, trained on random subsets of the data and features.\n",
    "\n",
    "> ### 💡 Key Idea\n",
    ">\n",
    "> Combine multiple weak learners (trees) to create a strong learner.  \n",
    "> Each tree votes, and the majority decision is the output.  \n",
    "> This improves generalization and reduces variance.\n",
    "\n",
    "---\n",
    "\n",
    "We tune two key hyperparameters using **grid search** and **5-fold cross-validation**:\n",
    "\n",
    "- `n_estimators`: the number of trees in the forest  \n",
    "- `max_depth`: maximum depth allowed for each tree\n",
    "\n",
    "We evaluate using **classification accuracy**.\n"
   ]
  },
  {
   "cell_type": "code",
   "execution_count": null,
   "id": "c8ce1a41",
   "metadata": {},
   "outputs": [
    {
     "name": "stdout",
     "output_type": "stream",
     "text": [
      "✅ Best Random Forest Parameters: {'n_estimators': 50, 'max_depth': 5}\n",
      "CV Accuracy: 0.819\n",
      "Test Accuracy: 0.817\n"
     ]
    }
   ],
   "source": [
    "# Define parameter grid\n",
    "rf_param_grid = {\n",
    "    \"n_estimators\": [10, 20, 50],\n",
    "    \"max_depth\": [3, 4, 5],\n",
    "}\n",
    "\n",
    "# Perform grid search\n",
    "best_forest, best_rf_params, best_rf_score = grid_search_cv(\n",
    "    ModelClass=RandomForest,\n",
    "    param_grid=rf_param_grid,\n",
    "    X=X_train,\n",
    "    y=y_train,\n",
    "    metric_fn=accuracy,\n",
    "    k=5,\n",
    "    seed=42\n",
    ")\n",
    "\n",
    "# Evaluate on test set\n",
    "y_pred_forest = best_forest.predict(X_test)\n",
    "\n",
    "print(f\"✅ Best Random Forest Parameters: {best_rf_params}\")\n",
    "print(f\"CV Accuracy: {best_rf_score:.3f}\")\n",
    "print(f\"Test Accuracy: {accuracy(y_test, y_pred_forest):.3f}\")"
   ]
  },
  {
   "cell_type": "markdown",
   "id": "04b6697c",
   "metadata": {},
   "source": [
    "## 🔍 LIME: Model Interpretability\n",
    "\n",
    "LIME explains individual predictions by approximating the model locally with a simpler interpretable model.\n",
    "\n",
    "> ### 💡 How LIME Works\n",
    ">\n",
    "> 1. Sample points around the instance using noise\n",
    "> 2. Get predictions from the black-box model\n",
    "> 3. Fit a weighted linear model (e.g. ridge regression)\n",
    "> 4. Interpret feature weights of this surrogate model\n"
   ]
  },
  {
   "cell_type": "code",
   "execution_count": 14,
   "id": "6042a204",
   "metadata": {},
   "outputs": [
    {
     "name": "stdout",
     "output_type": "stream",
     "text": [
      "✅ X_train shape: (237, 13)\n",
      "✅ Any NaNs in X_train? False\n",
      "✅ Feature std (min/max): 0.11310354958411033 0.49565040043363123\n",
      "✅ Perturbed shape: (301, 13)\n",
      "✅ Perturbed sample stats [first row]: [0.6875     0.         1.         0.41509434 0.38356164 1.\n",
      " 0.         0.26717557 0.         0.30645161 0.5        1.\n",
      " 0.        ]\n",
      "✅ Predictions shape: (301,)\n",
      "✅ Prediction stats: 0.22900801597707052 0.9791247460627794 [0.66576762 0.73774687 0.7562263  0.76135849 0.7721638  0.8289028\n",
      " 0.9014528  0.90783976 0.91951994 0.92463895]\n",
      "✅ Sample weights stats: 1.5398067856928605e-09 1.0 0.011707022476297135\n",
      "✅ Ridge fit: success\n",
      "✅ Coef preview: [-0.00401991  0.00151433  0.00402071  0.00243078  0.00339331]\n"
     ]
    }
   ],
   "source": [
    "import numpy as np\n",
    "\n",
    "# Assume: X_train, X_test, logreg, and LimeTabularExplainer are already defined\n",
    "\n",
    "# 1. Check shape and validity of X_train\n",
    "print(\"✅ X_train shape:\", X_train.shape)\n",
    "print(\"✅ Any NaNs in X_train?\", np.isnan(X_train).any())\n",
    "\n",
    "# 2. Initialize explainer and print internal stats\n",
    "explainer = LimeTabularExplainer(X_train, feature_names=X_df.columns.tolist(), kernel_width=1.0)\n",
    "print(\"✅ Feature std (min/max):\", np.min(explainer.feature_std), np.max(explainer.feature_std))\n",
    "\n",
    "# 3. Pick instance and generate perturbations manually\n",
    "instance = X_test[5]\n",
    "num_samples = 300\n",
    "perturbed = np.random.normal(loc=instance, scale=explainer.feature_std, size=(num_samples, len(instance)))\n",
    "perturbed = np.clip(perturbed, 0, 1)\n",
    "perturbed = np.vstack([instance, perturbed])\n",
    "\n",
    "print(\"✅ Perturbed shape:\", perturbed.shape)\n",
    "print(\"✅ Perturbed sample stats [first row]:\", perturbed[0])\n",
    "\n",
    "# 4. Run model predictions\n",
    "predict_fn = lambda x: logreg.decision_function(np.atleast_2d(x)).flatten()\n",
    "preds = predict_fn(perturbed)\n",
    "print(\"✅ Predictions shape:\", preds.shape)\n",
    "print(\"✅ Prediction stats:\", np.min(preds), np.max(preds), np.unique(preds[:10]))\n",
    "\n",
    "# 5. Compute distances and sample weights\n",
    "distances = np.linalg.norm((perturbed - instance) / explainer.feature_std, axis=1)\n",
    "weights = np.exp(-distances ** 2 / explainer.kernel_width ** 2)\n",
    "print(\"✅ Sample weights stats:\", np.min(weights), np.max(weights), np.mean(weights))\n",
    "\n",
    "# 6. Test RidgeRegression stability\n",
    "from courselib.models.ridge import RidgeRegression\n",
    "ridge = RidgeRegression(alpha=1.0, fit_intercept=True)\n",
    "try:\n",
    "    ridge.fit(perturbed, preds, sample_weight=weights)\n",
    "    print(\"✅ Ridge fit: success\")\n",
    "    print(\"✅ Coef preview:\", ridge.coef_[:5])\n",
    "except Exception as e:\n",
    "    print(\"❌ Ridge fit error:\", e)\n"
   ]
  },
  {
   "cell_type": "code",
   "execution_count": 17,
   "id": "05cd2ef3",
   "metadata": {},
   "outputs": [
    {
     "name": "stdout",
     "output_type": "stream",
     "text": [
      "Top LIME Features:\n",
      "exang: 0.0011\n",
      "oldpeak: 0.0007\n",
      "thal: 0.0006\n",
      "restecg: 0.0004\n",
      "sex: 0.0003\n"
     ]
    }
   ],
   "source": [
    "explainer = LimeTabularExplainer(X_train, feature_names=X_df.columns.tolist())\n",
    "instance = X_test[5]\n",
    "predict_fn = lambda x: logreg_momentum.decision_function(np.atleast_2d(x)).flatten()\n",
    "weights, idx = explainer.explain_instance(instance, predict_fn, num_samples=300)\n",
    "\n",
    "print(\"Top LIME Features:\")\n",
    "for feat, w in explainer.as_list(weights, idx, top_k=5):\n",
    "    print(f\"{feat}: {w:.4f}\")\n"
   ]
  },
  {
   "cell_type": "markdown",
   "id": "6386770d",
   "metadata": {},
   "source": [
    "## ✅ Summary\n",
    "\n",
    "We implemented and interpreted multiple models from scratch:\n",
    "\n",
    "- 🧮 Logistic Regression (with gradients and sigmoid)\n",
    "- 🌳 Decision Tree (using impurity criteria)\n",
    "- 🌲 Random Forest (ensemble of trees)\n",
    "- 🔍 LIME (local explanations with RidgeRegression)\n",
    "\n",
    "All within a modular framework designed for transparency and learning.\n"
   ]
  }
 ],
 "metadata": {
  "kernelspec": {
   "display_name": "applied_ml",
   "language": "python",
   "name": "python3"
  },
  "language_info": {
   "codemirror_mode": {
    "name": "ipython",
    "version": 3
   },
   "file_extension": ".py",
   "mimetype": "text/x-python",
   "name": "python",
   "nbconvert_exporter": "python",
   "pygments_lexer": "ipython3",
   "version": "3.10.16"
  }
 },
 "nbformat": 4,
 "nbformat_minor": 5
}
